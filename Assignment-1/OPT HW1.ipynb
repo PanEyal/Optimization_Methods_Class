{
 "cells": [
  {
   "cell_type": "markdown",
   "metadata": {},
   "source": [
    "## Problem 1"
   ]
  },
  {
   "cell_type": "code",
   "execution_count": 2,
   "metadata": {},
   "outputs": [],
   "source": [
    "import numpy as np"
   ]
  },
  {
   "cell_type": "code",
   "execution_count": 9,
   "metadata": {},
   "outputs": [
    {
     "name": "stdout",
     "output_type": "stream",
     "text": [
      "L2 norm of A is: 13.858100376465332\n"
     ]
    }
   ],
   "source": [
    "A = np.array([[ 1, 2, 3, 4],\n",
    "              [ 2, 4,-4, 8],\n",
    "              [-5, 4, 1, 5],\n",
    "              [ 5, 0,-3,-7]])\n",
    "eig_vals, eig_vecs = np.linalg.eig(A.transpose()@A)\n",
    "max_eig_val_index = np.argmax(np.abs(eig_vals))\n",
    "print(f\"L2 norm of A is: {np.sqrt(eig_vals[max_eig_val_index])}\")"
   ]
  },
  {
   "cell_type": "code",
   "execution_count": 10,
   "metadata": {},
   "outputs": [
    {
     "data": {
      "text/plain": [
       "array([[-0.29618621,  0.7044906 , -0.64207608, -0.060869  ],\n",
       "       [ 0.35616716,  0.26659364,  0.21072852, -0.87044028],\n",
       "       [ 0.06730298, -0.63349701, -0.69440426, -0.33459612],\n",
       "       [ 0.88367923,  0.17692476, -0.24725395,  0.35591308]])"
      ]
     },
     "execution_count": 10,
     "metadata": {},
     "output_type": "execute_result"
    }
   ],
   "source": [
    "eig_vecs"
   ]
  },
  {
   "cell_type": "code",
   "execution_count": 11,
   "metadata": {},
   "outputs": [
    {
     "data": {
      "text/plain": [
       "array([-0.29618621,  0.35616716,  0.06730298,  0.88367923])"
      ]
     },
     "execution_count": 11,
     "metadata": {},
     "output_type": "execute_result"
    }
   ],
   "source": [
    "x = eig_vecs.transpose()[max_eig_val_index]\n",
    "x"
   ]
  },
  {
   "cell_type": "code",
   "execution_count": 12,
   "metadata": {},
   "outputs": [
    {
     "data": {
      "text/plain": [
       "13.858100376465325"
      ]
     },
     "execution_count": 12,
     "metadata": {},
     "output_type": "execute_result"
    }
   ],
   "source": [
    "np.linalg.norm(A@x, ord=2) / np.linalg.norm(x, ord=2)"
   ]
  },
  {
   "cell_type": "code",
   "execution_count": 13,
   "metadata": {},
   "outputs": [],
   "source": [
    "x_sol = np.array([-0.296, 0.356, 0.067, 0.884])"
   ]
  },
  {
   "cell_type": "code",
   "execution_count": 14,
   "metadata": {},
   "outputs": [
    {
     "data": {
      "text/plain": [
       "13.858099042365327"
      ]
     },
     "execution_count": 14,
     "metadata": {},
     "output_type": "execute_result"
    }
   ],
   "source": [
    "np.linalg.norm(A@x_sol)/np.linalg.norm(x_sol)"
   ]
  },
  {
   "cell_type": "markdown",
   "metadata": {},
   "source": [
    "# Problem 4"
   ]
  },
  {
   "cell_type": "markdown",
   "metadata": {},
   "source": [
    "## Section A"
   ]
  },
  {
   "cell_type": "code",
   "execution_count": 2,
   "metadata": {},
   "outputs": [],
   "source": [
    "a = np.array([[2,  1, 2],\n",
    "              [1, -2, 1],\n",
    "              [1,  2, 3],\n",
    "              [1,  1, 1]])\n",
    "b = np.array([6, 1, 5, 2])"
   ]
  },
  {
   "cell_type": "code",
   "execution_count": 3,
   "metadata": {},
   "outputs": [],
   "source": [
    "at_a = a.transpose()@a\n",
    "at_b = a.transpose()@b"
   ]
  },
  {
   "cell_type": "code",
   "execution_count": 4,
   "metadata": {},
   "outputs": [
    {
     "data": {
      "text/plain": [
       "array([[2.64575131, 0.        , 0.        ],\n",
       "       [1.13389342, 2.9519969 , 0.        ],\n",
       "       [3.40168026, 1.06465462, 1.51495279]])"
      ]
     },
     "execution_count": 4,
     "metadata": {},
     "output_type": "execute_result"
    }
   ],
   "source": [
    "l = np.linalg.cholesky(at_a)\n",
    "l"
   ]
  },
  {
   "cell_type": "code",
   "execution_count": 5,
   "metadata": {},
   "outputs": [],
   "source": [
    "def bwd_sub(U, b):\n",
    "    n = np.size(b)\n",
    "    x = np.zeros(n, dtype=np.float64)\n",
    "    for i in reversed(range(0, n)):\n",
    "        sum = 0\n",
    "        for j in range(i, n):\n",
    "            sum += U[i, j] * x[j]\n",
    "        x[i] = (1/U[i, i]) * (b[i] - sum)\n",
    "    return x\n",
    "\n",
    "def fwd_sub(L, b):\n",
    "    n = np.size(b)\n",
    "    x = np.zeros(n, dtype=np.float64)\n",
    "    for i in range(0, n):\n",
    "        sum = 0\n",
    "        for j in range(0, i):\n",
    "            sum += L[i, j] * x[j]\n",
    "        x[i] = (1/L[i, i]) * (b[i] - sum)\n",
    "    return x"
   ]
  },
  {
   "cell_type": "code",
   "execution_count": 6,
   "metadata": {},
   "outputs": [
    {
     "data": {
      "text/plain": [
       "array([1.7, 0.6, 0.7])"
      ]
     },
     "execution_count": 6,
     "metadata": {},
     "output_type": "execute_result"
    }
   ],
   "source": [
    "y = fwd_sub(l, at_b)\n",
    "x = bwd_sub(l.transpose(), y)\n",
    "x"
   ]
  },
  {
   "cell_type": "code",
   "execution_count": 7,
   "metadata": {},
   "outputs": [
    {
     "data": {
      "text/plain": [
       "array([-1.55431223e-15, -5.55111512e-16,  1.33226763e-15])"
      ]
     },
     "execution_count": 7,
     "metadata": {},
     "output_type": "execute_result"
    }
   ],
   "source": [
    "x - np.linalg.solve(at_a, at_b)"
   ]
  },
  {
   "cell_type": "markdown",
   "metadata": {},
   "source": [
    "## Section B - QR"
   ]
  },
  {
   "cell_type": "code",
   "execution_count": 8,
   "metadata": {},
   "outputs": [],
   "source": [
    "q, r = np.linalg.qr(a)"
   ]
  },
  {
   "cell_type": "code",
   "execution_count": 9,
   "metadata": {},
   "outputs": [
    {
     "data": {
      "text/plain": [
       "array([[-0.75592895,  0.04839339,  0.41120147],\n",
       "       [-0.37796447, -0.82268766, -0.38955929],\n",
       "       [-0.37796447,  0.53232731, -0.7574764 ],\n",
       "       [-0.37796447,  0.19357357,  0.32463274]])"
      ]
     },
     "execution_count": 9,
     "metadata": {},
     "output_type": "execute_result"
    }
   ],
   "source": [
    "q"
   ]
  },
  {
   "cell_type": "code",
   "execution_count": 10,
   "metadata": {},
   "outputs": [
    {
     "data": {
      "text/plain": [
       "array([[-2.64575131, -1.13389342, -3.40168026],\n",
       "       [ 0.        ,  2.9519969 ,  1.06465462],\n",
       "       [ 0.        ,  0.        , -1.51495279]])"
      ]
     },
     "execution_count": 10,
     "metadata": {},
     "output_type": "execute_result"
    }
   ],
   "source": [
    "r"
   ]
  },
  {
   "cell_type": "code",
   "execution_count": 11,
   "metadata": {},
   "outputs": [
    {
     "data": {
      "text/plain": [
       "array([1.7, 0.6, 0.7])"
      ]
     },
     "execution_count": 11,
     "metadata": {},
     "output_type": "execute_result"
    }
   ],
   "source": [
    "x = bwd_sub(r, q.transpose()@b)\n",
    "x"
   ]
  },
  {
   "cell_type": "markdown",
   "metadata": {},
   "source": [
    "## Section B - SVD"
   ]
  },
  {
   "cell_type": "code",
   "execution_count": 12,
   "metadata": {},
   "outputs": [],
   "source": [
    "u, sigma, v_t = np.linalg.svd(a, full_matrices=False)"
   ]
  },
  {
   "cell_type": "code",
   "execution_count": 13,
   "metadata": {},
   "outputs": [],
   "source": [
    "y = (u.transpose()@b)/sigma"
   ]
  },
  {
   "cell_type": "code",
   "execution_count": 14,
   "metadata": {},
   "outputs": [
    {
     "data": {
      "text/plain": [
       "array([1.7, 0.6, 0.7])"
      ]
     },
     "execution_count": 14,
     "metadata": {},
     "output_type": "execute_result"
    }
   ],
   "source": [
    "x = v_t.transpose()@y\n",
    "x"
   ]
  },
  {
   "cell_type": "markdown",
   "metadata": {},
   "source": [
    "## Section C"
   ]
  },
  {
   "cell_type": "code",
   "execution_count": 15,
   "metadata": {},
   "outputs": [
    {
     "data": {
      "text/plain": [
       "array([-6.00000000e-01,  2.00000000e-01, -1.77635684e-15,  1.00000000e+00])"
      ]
     },
     "execution_count": 15,
     "metadata": {},
     "output_type": "execute_result"
    }
   ],
   "source": [
    "r = a@x - b\n",
    "r"
   ]
  },
  {
   "cell_type": "code",
   "execution_count": 16,
   "metadata": {},
   "outputs": [
    {
     "data": {
      "text/plain": [
       "array([-9.32587341e-15, -9.76996262e-15, -1.28785871e-14])"
      ]
     },
     "execution_count": 16,
     "metadata": {},
     "output_type": "execute_result"
    }
   ],
   "source": [
    "a.transpose()@r"
   ]
  },
  {
   "cell_type": "markdown",
   "metadata": {},
   "source": [
    "## Section D"
   ]
  },
  {
   "cell_type": "code",
   "execution_count": 101,
   "metadata": {},
   "outputs": [],
   "source": [
    "w = np.array([[900, 0, 0, 0],\n",
    "              [  0, 1, 0, 0],\n",
    "              [  0, 0, 1, 0],\n",
    "              [  0, 0, 0, 1]])"
   ]
  },
  {
   "cell_type": "code",
   "execution_count": 102,
   "metadata": {},
   "outputs": [],
   "source": [
    "l = np.linalg.cholesky(a.transpose()@w@a)"
   ]
  },
  {
   "cell_type": "code",
   "execution_count": 103,
   "metadata": {},
   "outputs": [
    {
     "data": {
      "text/plain": [
       "array([2.1723696 , 0.69216968, 0.48109701])"
      ]
     },
     "execution_count": 103,
     "metadata": {},
     "output_type": "execute_result"
    }
   ],
   "source": [
    "y = fwd_sub(l, a.transpose()@w@b)\n",
    "x = bwd_sub(l.transpose(), y)\n",
    "x"
   ]
  },
  {
   "cell_type": "code",
   "execution_count": 104,
   "metadata": {},
   "outputs": [
    {
     "data": {
      "text/plain": [
       "array([-8.97090862e-04,  2.69127259e-01, -8.92619312e-13,  1.34563629e+00])"
      ]
     },
     "execution_count": 104,
     "metadata": {},
     "output_type": "execute_result"
    }
   ],
   "source": [
    "a@x - b"
   ]
  },
  {
   "cell_type": "markdown",
   "metadata": {},
   "source": [
    "# Problem 5"
   ]
  },
  {
   "cell_type": "code",
   "execution_count": 17,
   "metadata": {},
   "outputs": [],
   "source": [
    "def gram_schmidt_QR(A):\n",
    "    m, n = A.shape\n",
    "    R = np.zeros((n,n))\n",
    "    Q = np.zeros((m,n))\n",
    "\n",
    "    R[0,0] = np.linalg.norm(A[:,0], ord=2)\n",
    "    Q[:,0] = A[:,0]/R[0,0]\n",
    "\n",
    "    for i in range(1,n):\n",
    "        Q[:,i] = A[:,i]\n",
    "        for j in range(0,i):\n",
    "            R[j,i] = Q[:,j] @ A[:,i]\n",
    "            Q[:,i] = Q[:,i] - R[j,i] * Q[:,j]\n",
    "        R[i,i] = np.linalg.norm(Q[:,i], ord=2)\n",
    "        Q[:,i] = Q[:,i] / R[i,i]\n",
    "    \n",
    "    return Q,R\n",
    "\n",
    "def gram_schmidt_QR_modified(A):\n",
    "    m, n = A.shape\n",
    "    R = np.zeros((n,n))\n",
    "    Q = np.zeros((m,n))\n",
    "\n",
    "    R[0,0] = np.linalg.norm(A[:,0], ord=2)\n",
    "    Q[:,0] = A[:,0]/R[0,0]\n",
    "\n",
    "    for i in range(1,n):\n",
    "        Q[:,i] = A[:,i]\n",
    "        for j in range(0,i):\n",
    "            R[j,i] = Q[:,j] @ Q[:,i]\n",
    "            Q[:,i] = Q[:,i] - R[j,i] * Q[:,j]\n",
    "        R[i,i] = np.linalg.norm(Q[:,i], ord=2)\n",
    "        Q[:,i] = Q[:,i] / R[i,i]\n",
    "    \n",
    "    return Q,R"
   ]
  },
  {
   "cell_type": "markdown",
   "metadata": {},
   "source": [
    "### For eps = 1"
   ]
  },
  {
   "cell_type": "code",
   "execution_count": 21,
   "metadata": {},
   "outputs": [],
   "source": [
    "eps = 1\n",
    "A = np.array([[1,   1,   1],\n",
    "              [eps, 0,   0],\n",
    "              [0,   eps, 0],\n",
    "              [0,   0,   eps]])"
   ]
  },
  {
   "cell_type": "code",
   "execution_count": 22,
   "metadata": {},
   "outputs": [
    {
     "name": "stdout",
     "output_type": "stream",
     "text": [
      "Original Version:\n",
      "[[ 0.70710678  0.40824829  0.28867513]\n",
      " [ 0.70710678 -0.40824829 -0.28867513]\n",
      " [ 0.          0.81649658 -0.28867513]\n",
      " [ 0.          0.          0.8660254 ]]\n",
      "[[1.41421356 0.70710678 0.70710678]\n",
      " [0.         1.22474487 0.40824829]\n",
      " [0.         0.         1.15470054]]\n"
     ]
    }
   ],
   "source": [
    "q, r = gram_schmidt_QR(A)\n",
    "print(\"Original Version:\")\n",
    "print(q)\n",
    "print(r)"
   ]
  },
  {
   "cell_type": "code",
   "execution_count": 23,
   "metadata": {},
   "outputs": [
    {
     "name": "stdout",
     "output_type": "stream",
     "text": [
      "Modified Version:\n",
      "[[ 0.70710678  0.40824829  0.28867513]\n",
      " [ 0.70710678 -0.40824829 -0.28867513]\n",
      " [ 0.          0.81649658 -0.28867513]\n",
      " [ 0.          0.          0.8660254 ]]\n",
      "[[1.41421356 0.70710678 0.70710678]\n",
      " [0.         1.22474487 0.40824829]\n",
      " [0.         0.         1.15470054]]\n"
     ]
    }
   ],
   "source": [
    "q, r = gram_schmidt_QR_modified(A)\n",
    "print(\"Modified Version:\")\n",
    "print(q)\n",
    "print(r)"
   ]
  },
  {
   "cell_type": "code",
   "execution_count": 24,
   "metadata": {},
   "outputs": [
    {
     "name": "stdout",
     "output_type": "stream",
     "text": [
      "Original Version:\n",
      "Norm of (Q^T)Q - I: 4.777941758212735e-16\n"
     ]
    }
   ],
   "source": [
    "q, r = gram_schmidt_QR(A)\n",
    "print(\"Original Version:\")\n",
    "print(f\"Norm of (Q^T)Q - I: {np.linalg.norm(q.transpose()@q - np.eye(3), ord='fro')}\")"
   ]
  },
  {
   "cell_type": "code",
   "execution_count": 25,
   "metadata": {},
   "outputs": [
    {
     "name": "stdout",
     "output_type": "stream",
     "text": [
      "Modified Version:\n",
      "Norm of (Q^T)Q - I: 4.987305196443834e-16\n"
     ]
    }
   ],
   "source": [
    "q, r = gram_schmidt_QR_modified(A)\n",
    "print(\"Modified Version:\")\n",
    "print(f\"Norm of (Q^T)Q - I: {np.linalg.norm(q.transpose()@q - np.eye(3), ord='fro')}\")"
   ]
  },
  {
   "cell_type": "markdown",
   "metadata": {},
   "source": [
    "### For eps = 1e-10"
   ]
  },
  {
   "cell_type": "code",
   "execution_count": 26,
   "metadata": {},
   "outputs": [],
   "source": [
    "eps = 1e-10\n",
    "A = np.array([[1,   1,   1],\n",
    "              [eps, 0,   0],\n",
    "              [0,   eps, 0],\n",
    "              [0,   0,   eps]])"
   ]
  },
  {
   "cell_type": "code",
   "execution_count": 27,
   "metadata": {},
   "outputs": [
    {
     "name": "stdout",
     "output_type": "stream",
     "text": [
      "Original Version:\n",
      "[[ 1.00000000e+00  0.00000000e+00  0.00000000e+00]\n",
      " [ 1.00000000e-10 -7.07106781e-01 -7.07106781e-01]\n",
      " [ 0.00000000e+00  7.07106781e-01  0.00000000e+00]\n",
      " [ 0.00000000e+00  0.00000000e+00  7.07106781e-01]]\n",
      "[[1.00000000e+00 1.00000000e+00 1.00000000e+00]\n",
      " [0.00000000e+00 1.41421356e-10 0.00000000e+00]\n",
      " [0.00000000e+00 0.00000000e+00 1.41421356e-10]]\n"
     ]
    }
   ],
   "source": [
    "q, r = gram_schmidt_QR(A)\n",
    "print(\"Original Version:\")\n",
    "print(q)\n",
    "print(r)"
   ]
  },
  {
   "cell_type": "code",
   "execution_count": 28,
   "metadata": {},
   "outputs": [
    {
     "name": "stdout",
     "output_type": "stream",
     "text": [
      "Modified Version:\n",
      "[[ 1.00000000e+00  0.00000000e+00  0.00000000e+00]\n",
      " [ 1.00000000e-10 -7.07106781e-01 -4.08248290e-01]\n",
      " [ 0.00000000e+00  7.07106781e-01 -4.08248290e-01]\n",
      " [ 0.00000000e+00  0.00000000e+00  8.16496581e-01]]\n",
      "[[1.00000000e+00 1.00000000e+00 1.00000000e+00]\n",
      " [0.00000000e+00 1.41421356e-10 7.07106781e-11]\n",
      " [0.00000000e+00 0.00000000e+00 1.22474487e-10]]\n"
     ]
    }
   ],
   "source": [
    "q, r = gram_schmidt_QR_modified(A)\n",
    "print(\"Modified Version:\")\n",
    "print(q)\n",
    "print(r)"
   ]
  },
  {
   "cell_type": "code",
   "execution_count": 29,
   "metadata": {},
   "outputs": [
    {
     "name": "stdout",
     "output_type": "stream",
     "text": [
      "Original Version:\n",
      "Norm of (Q^T)Q - I: 0.7071067811865477\n"
     ]
    }
   ],
   "source": [
    "q, r = gram_schmidt_QR(A)\n",
    "print(\"Original Version:\")\n",
    "print(f\"Norm of (Q^T)Q - I: {np.linalg.norm(q.transpose()@q - np.eye(3), ord='fro')}\")"
   ]
  },
  {
   "cell_type": "code",
   "execution_count": 30,
   "metadata": {},
   "outputs": [
    {
     "name": "stdout",
     "output_type": "stream",
     "text": [
      "Modified Version:\n",
      "Norm of (Q^T)Q - I: 1.1547005383855975e-10\n"
     ]
    }
   ],
   "source": [
    "q, r = gram_schmidt_QR_modified(A)\n",
    "print(\"Modified Version:\")\n",
    "print(f\"Norm of (Q^T)Q - I: {np.linalg.norm(q.transpose()@q - np.eye(3), ord='fro')}\")"
   ]
  },
  {
   "cell_type": "code",
   "execution_count": null,
   "metadata": {},
   "outputs": [],
   "source": []
  }
 ],
 "metadata": {
  "kernelspec": {
   "display_name": "Python 3",
   "language": "python",
   "name": "python3"
  },
  "language_info": {
   "codemirror_mode": {
    "name": "ipython",
    "version": 3
   },
   "file_extension": ".py",
   "mimetype": "text/x-python",
   "name": "python",
   "nbconvert_exporter": "python",
   "pygments_lexer": "ipython3",
   "version": "3.8.3"
  }
 },
 "nbformat": 4,
 "nbformat_minor": 5
}
